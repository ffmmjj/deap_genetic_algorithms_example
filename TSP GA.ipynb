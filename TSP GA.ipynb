{
 "cells": [
  {
   "cell_type": "code",
   "execution_count": 1,
   "metadata": {
    "collapsed": true
   },
   "outputs": [],
   "source": [
    "%matplotlib inline"
   ]
  },
  {
   "cell_type": "code",
   "execution_count": 2,
   "metadata": {
    "collapsed": false
   },
   "outputs": [
    {
     "name": "stdout",
     "output_type": "stream",
     "text": [
      "[1, 2]\n"
     ]
    }
   ],
   "source": [
    "# Criação do tipo de indivíduo e função de fitness\n",
    "from deap import base, creator\n",
    "\n",
    "creator.create('FitnessMin', base.Fitness, weights=(-1.0,))\n",
    "creator.create('Individual', list, fitness=creator.FitnessMin)\n",
    "\n",
    "print(creator.Individual([1, 2]))"
   ]
  },
  {
   "cell_type": "code",
   "execution_count": 3,
   "metadata": {
    "collapsed": false
   },
   "outputs": [],
   "source": [
    "# Função para criação de indivíduos\n",
    "import random\n",
    "\n",
    "def create_route(n_cities):\n",
    "    route = list(range(n_cities))\n",
    "    random.shuffle(route)\n",
    "    return creator.Individual(route)"
   ]
  },
  {
   "cell_type": "code",
   "execution_count": 4,
   "metadata": {
    "collapsed": false
   },
   "outputs": [
    {
     "data": {
      "text/plain": [
       "[[3, 2, 7, 9, 1, 4, 8, 5, 6, 0], [9, 5, 3, 2, 4, 0, 6, 1, 8, 7]]"
      ]
     },
     "execution_count": 4,
     "metadata": {},
     "output_type": "execute_result"
    }
   ],
   "source": [
    "# Criação de população usando o toolbox\n",
    "from deap import tools\n",
    "\n",
    "def create_tsp_toolbox(n_cities):\n",
    "    toolbox = base.Toolbox()\n",
    "    toolbox.register('individual', create_route, n_cities)\n",
    "    toolbox.register('population', tools.initRepeat, list, toolbox.individual)\n",
    "\n",
    "    return toolbox\n",
    "\n",
    "toolbox = create_tsp_toolbox(10)\n",
    "toolbox.population(n=2)"
   ]
  },
  {
   "cell_type": "code",
   "execution_count": 5,
   "metadata": {
    "collapsed": true
   },
   "outputs": [],
   "source": [
    "# Introduzindo a função de mutação\n",
    "def create_tsp_toolbox(n_cities):\n",
    "    toolbox = base.Toolbox()\n",
    "    toolbox.register('individual', create_route, n_cities)\n",
    "    toolbox.register('population', tools.initRepeat, list, toolbox.individual)\n",
    "    toolbox.register('mutate', tools.mutShuffleIndexes, indpb=0.1)\n",
    "    \n",
    "    return toolbox"
   ]
  },
  {
   "cell_type": "code",
   "execution_count": 6,
   "metadata": {
    "collapsed": true
   },
   "outputs": [],
   "source": [
    "# Adicionando a função de crossover\n",
    "def one_point_crossover(city_a, city_b):\n",
    "    def mate(c_a, c_b):    \n",
    "        pos = random.randint(0, len(c_a))\n",
    "        upper_half = c_a[pos:]\n",
    "        offspring = [c for c in c_b if c not in upper_half]\n",
    "        offspring.extend(upper_half)\n",
    "\n",
    "        return creator.Individual(offspring)\n",
    "    \n",
    "    return (mate(city_a, city_b), mate(city_b, city_a))\n",
    "\n",
    "def create_tsp_toolbox(n_cities):\n",
    "    toolbox = base.Toolbox()\n",
    "    toolbox.register('individual', create_route, n_cities)\n",
    "    toolbox.register('population', tools.initRepeat, list, toolbox.individual)\n",
    "    toolbox.register('mutate', tools.mutShuffleIndexes, indpb=0.1)\n",
    "    toolbox.register('mate', one_point_crossover)\n",
    "\n",
    "    return toolbox"
   ]
  },
  {
   "cell_type": "code",
   "execution_count": 7,
   "metadata": {
    "collapsed": true
   },
   "outputs": [],
   "source": [
    "# Adicionando a função de fitness e de seleção\n",
    "def distance(route, distances_matrix):\n",
    "    distance_sum = 0\n",
    "    for (city_a, city_b) in zip(route, route[1:]):\n",
    "        distance_sum += distances_matrix[city_a][city_b]\n",
    "    return (distance_sum,)\n",
    "\n",
    "def create_tsp_toolbox(n_cities, distances_matrix):\n",
    "    toolbox = base.Toolbox()\n",
    "    toolbox.register('individual', create_route, n_cities)\n",
    "    toolbox.register('population', tools.initRepeat, list, toolbox.individual)\n",
    "    toolbox.register('mutate', tools.mutShuffleIndexes, indpb=0.1)\n",
    "    toolbox.register('mate', one_point_crossover)\n",
    "    toolbox.register('evaluate', distance, distances_matrix=distances_matrix)\n",
    "    toolbox.register(\"select\", tools.selTournament, tournsize=3)\n",
    "    \n",
    "    return toolbox"
   ]
  },
  {
   "cell_type": "code",
   "execution_count": 8,
   "metadata": {
    "collapsed": false
   },
   "outputs": [],
   "source": [
    "import numpy\n",
    "from deap import algorithms\n",
    "\n",
    "def solve_tsp(graph, n_iters=10):\n",
    "    n_vertices = len(graph)\n",
    "    toolbox = create_tsp_toolbox(n_vertices, graph)\n",
    "    \n",
    "    pop = toolbox.population(n=50)\n",
    "    hof = tools.HallOfFame(1)\n",
    "    \n",
    "    stats = tools.Statistics(lambda ind: ind.fitness.values)\n",
    "    stats.register(\"avg\", numpy.mean)\n",
    "    stats.register(\"min\", numpy.min)\n",
    "    stats.register(\"max\", numpy.max)\n",
    "    \n",
    "    pop, logbook = algorithms.eaSimple(pop, toolbox, cxpb=0.5, mutpb=0.2, ngen=n_iters, stats=stats, halloffame=hof, verbose=True)\n",
    "    return hof[0]"
   ]
  },
  {
   "cell_type": "code",
   "execution_count": 9,
   "metadata": {
    "collapsed": true
   },
   "outputs": [],
   "source": [
    "import numpy as np\n",
    "\n",
    "def random_points(n_points, min_coord=None, max_coord=None):\n",
    "    return np.random.randn(n_points, 2) * 100"
   ]
  },
  {
   "cell_type": "code",
   "execution_count": 10,
   "metadata": {
    "collapsed": false
   },
   "outputs": [],
   "source": [
    "import networkx as nx\n",
    "\n",
    "def build_graph(vertices_positions):\n",
    "    G = nx.Graph()\n",
    "    for node in range(vertices_positions.shape[0]):\n",
    "        G.add_node(node, pos=(points[node, 0], points[node, 1]))\n",
    "    \n",
    "    return G\n",
    "\n",
    "def show_graph(graph):\n",
    "    nx.draw(graph, nx.get_node_attributes(graph, 'pos'), node_size=50)\n",
    "\n",
    "def add_solution_to_graph(graph, solution):\n",
    "    G_with_solution = G.copy()\n",
    "    G_with_solution.add_path(solution)\n",
    "    G_with_solution.add_edge(solution[-1], solution[0])\n",
    "    \n",
    "    return G_with_solution"
   ]
  },
  {
   "cell_type": "code",
   "execution_count": 11,
   "metadata": {
    "collapsed": true
   },
   "outputs": [],
   "source": [
    "import itertools\n",
    "\n",
    "def build_distances_matrix(vertices_positions):\n",
    "    n_vertices = vertices_positions.shape[0]\n",
    "    dists = np.zeros((n_vertices, n_vertices))\n",
    "    \n",
    "    for i1, i2 in itertools.combinations(range(n_vertices), 2):\n",
    "        v1, v2 = vertices_positions[i1, :], vertices_positions[i2, :]\n",
    "        dist = np.linalg.norm(v1 - v2)\n",
    "        \n",
    "        dists[i1][i2] = dist\n",
    "        dists[i2][i1] = dist\n",
    "    \n",
    "    return dists"
   ]
  },
  {
   "cell_type": "code",
   "execution_count": 12,
   "metadata": {
    "collapsed": false
   },
   "outputs": [
    {
     "data": {
      "image/png": "[encoded data removed]",
      "text/plain": [
       "<matplotlib.figure.Figure at 0x10e91a470>"
      ]
     },
     "metadata": {},
     "output_type": "display_data"
    }
   ],
   "source": [
    "points = random_points(10)\n",
    "dist_matrix = build_distances_matrix(points)\n",
    "G = build_graph(points)\n",
    "show_graph(G)"
   ]
  },
  {
   "cell_type": "code",
   "execution_count": 13,
   "metadata": {
    "collapsed": false,
    "scrolled": true
   },
   "outputs": [
    {
     "name": "stdout",
     "output_type": "stream",
     "text": [
      "gen\tnevals\tavg    \tmin    \tmax   \n",
      "0  \t50    \t1456.77\t1029.04\t1746.1\n",
      "1  \t36    \t1335.92\t985.298\t1693.61\n",
      "2  \t35    \t1224.34\t936.575\t1463.82\n",
      "3  \t24    \t1131.12\t936.575\t1550.24\n",
      "4  \t34    \t1097.95\t773.951\t1544.96\n",
      "5  \t32    \t1030.34\t871.414\t1465.4 \n",
      "6  \t25    \t981.563\t870.229\t1515.6 \n",
      "7  \t29    \t958.94 \t773.951\t1743.87\n",
      "8  \t35    \t903.436\t870.229\t1124.98\n",
      "9  \t36    \t931.068\t858.01 \t1450.86\n",
      "10 \t29    \t912.627\t858.01 \t1398.29\n",
      "11 \t29    \t891.278\t858.01 \t1307.22\n",
      "12 \t35    \t912.543\t858.01 \t1398.48\n",
      "13 \t35    \t918.781\t858.01 \t1449.64\n",
      "14 \t37    \t944.105\t858.01 \t1595.13\n",
      "15 \t26    \t913.706\t858.01 \t1359.09\n",
      "16 \t26    \t887.753\t858.01 \t1342.68\n",
      "17 \t34    \t916.022\t858.01 \t1489.9 \n",
      "18 \t32    \t914.812\t858.01 \t1563.14\n",
      "19 \t27    \t875.991\t858.01 \t1350.4 \n",
      "20 \t30    \t875.436\t858.01 \t1242.44\n",
      "21 \t30    \t896.206\t858.01 \t1380.92\n",
      "22 \t40    \t891.49 \t858.01 \t1537.53\n",
      "23 \t28    \t911.971\t858.01 \t1457   \n",
      "24 \t30    \t917.735\t858.01 \t1397.32\n",
      "25 \t27    \t879.145\t858.01 \t1276.66\n",
      "26 \t35    \t906.392\t858.01 \t1467.78\n",
      "27 \t24    \t903.547\t858.01 \t1323.24\n",
      "28 \t29    \t902.67 \t858.01 \t1380.41\n",
      "29 \t35    \t893.15 \t858.01 \t1350.4 \n",
      "30 \t27    \t908.732\t858.01 \t1378.39\n",
      "31 \t30    \t882.414\t858.01 \t1306.77\n",
      "32 \t29    \t867.219\t858.01 \t1287.94\n",
      "33 \t33    \t896.049\t858.01 \t1417.73\n",
      "34 \t35    \t893.667\t858.01 \t1629.15\n",
      "35 \t29    \t890.754\t858.01 \t1283.72\n",
      "36 \t31    \t875.868\t858.01 \t1210.7 \n",
      "37 \t37    \t925.297\t858.01 \t1538.12\n",
      "38 \t31    \t916.024\t858.01 \t1314.26\n",
      "39 \t28    \t894.879\t858.01 \t1220.1 \n",
      "40 \t30    \t905.493\t858.01 \t1362.41\n",
      "41 \t37    \t914.599\t858.01 \t1392.95\n",
      "42 \t29    \t903.623\t858.01 \t1710.82\n",
      "43 \t27    \t888.452\t858.01 \t1347.56\n",
      "44 \t37    \t887.13 \t858.01 \t1354.35\n",
      "45 \t26    \t868.917\t858.01 \t1236.54\n",
      "46 \t30    \t892.202\t858.01 \t1286.67\n",
      "47 \t33    \t894.161\t858.01 \t1567.15\n",
      "48 \t36    \t908.629\t858.01 \t1534.71\n",
      "49 \t37    \t917.807\t858.01 \t1405.11\n",
      "50 \t36    \t879.289\t858.01 \t1245.65\n",
      "51 \t34    \t872.973\t858.01 \t1290.08\n",
      "52 \t28    \t901.413\t858.01 \t1461.52\n",
      "53 \t28    \t891.837\t858.01 \t1543.86\n",
      "54 \t35    \t900.082\t858.01 \t1334.47\n",
      "55 \t30    \t904.983\t858.01 \t1512.28\n",
      "56 \t30    \t901.835\t858.01 \t1459.31\n",
      "57 \t37    \t902.256\t858.01 \t1397.57\n",
      "58 \t37    \t907.318\t858.01 \t1525.86\n",
      "59 \t31    \t901.404\t793.345\t1253.65\n",
      "60 \t40    \t935.299\t793.345\t1408.74\n",
      "61 \t34    \t905.16 \t793.345\t1461.69\n",
      "62 \t23    \t863.611\t793.345\t1326.17\n",
      "63 \t30    \t859.09 \t793.345\t1365.35\n",
      "64 \t36    \t816.608\t793.345\t1278.87\n",
      "65 \t29    \t839.882\t793.345\t1421.67\n",
      "66 \t33    \t827.624\t720.646\t1292.36\n",
      "67 \t34    \t836.381\t720.646\t1593.67\n",
      "68 \t38    \t837.556\t720.646\t1476.87\n",
      "69 \t29    \t808.266\t720.646\t1381.8 \n",
      "70 \t31    \t794.438\t720.646\t1577.28\n",
      "71 \t34    \t777.713\t720.646\t1335.7 \n",
      "72 \t27    \t774.807\t720.646\t1344.98\n",
      "73 \t36    \t751.994\t720.646\t1140.51\n",
      "74 \t40    \t795.223\t720.646\t1690.61\n",
      "75 \t23    \t753.481\t720.646\t1499.38\n",
      "76 \t32    \t762.717\t720.646\t1224.66\n",
      "77 \t26    \t798.745\t720.646\t1400.01\n",
      "78 \t39    \t809.524\t720.646\t1464.51\n",
      "79 \t34    \t797.228\t720.646\t1545.19\n",
      "80 \t23    \t791.788\t720.646\t1565.04\n",
      "81 \t30    \t797.458\t720.646\t1406.52\n",
      "82 \t32    \t785.137\t720.646\t1326.39\n",
      "83 \t28    \t751.229\t720.646\t1156.28\n",
      "84 \t37    \t770.21 \t720.646\t1311.64\n",
      "85 \t25    \t780.84 \t720.646\t1433.29\n",
      "86 \t21    \t741.427\t720.646\t1253.92\n",
      "87 \t27    \t753.688\t720.646\t1269.19\n",
      "88 \t26    \t753.201\t720.646\t1146.23\n",
      "89 \t36    \t763.989\t720.646\t1262.08\n",
      "90 \t33    \t788.086\t720.646\t1387.9 \n",
      "91 \t33    \t780.607\t720.646\t1289.2 \n",
      "92 \t35    \t755.064\t720.646\t1484.9 \n",
      "93 \t27    \t769.695\t720.646\t1528.15\n",
      "94 \t36    \t786.969\t720.646\t1402.89\n",
      "95 \t32    \t776.292\t720.646\t1187.97\n",
      "96 \t33    \t768.235\t720.646\t1690.54\n",
      "97 \t19    \t783.578\t720.646\t1333.24\n",
      "98 \t22    \t733.63 \t720.646\t978.122\n",
      "99 \t28    \t742.737\t704.608\t1205.31\n",
      "100\t30    \t784.677\t704.608\t1452.44\n"
     ]
    }
   ],
   "source": [
    "solution = solve_tsp(dist_matrix, n_iters = 100)"
   ]
  },
  {
   "cell_type": "code",
   "execution_count": 14,
   "metadata": {
    "collapsed": false
   },
   "outputs": [
    {
     "data": {
      "image/png": "[encoded data removed]",
      "text/plain": [
       "<matplotlib.figure.Figure at 0x10e9a1940>"
      ]
     },
     "metadata": {},
     "output_type": "display_data"
    }
   ],
   "source": [
    "G_with_solution = add_solution_to_graph(G, solution)\n",
    "show_graph(G_with_solution)"
   ]
  }
 ],
 "metadata": {
  "kernelspec": {
   "display_name": "Python 3",
   "language": "python",
   "name": "python3"
  },
  "language_info": {
   "codemirror_mode": {
    "name": "ipython",
    "version": 3
   },
   "file_extension": ".py",
   "mimetype": "text/x-python",
   "name": "python",
   "nbconvert_exporter": "python",
   "pygments_lexer": "ipython3",
   "version": "3.4.3"
  }
 },
 "nbformat": 4,
 "nbformat_minor": 0
}
